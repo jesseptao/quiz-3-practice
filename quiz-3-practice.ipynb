{
 "cells": [
  {
   "cell_type": "markdown",
   "metadata": {},
   "source": [
    "# Quiz 3 Practice"
   ]
  },
  {
   "cell_type": "markdown",
   "metadata": {},
   "source": [
    "## Background\n",
    "\n",
    "Congratulations! You've been hired by Professor Willow as a research fellow to study the wonderous world of Pokémon Go. Professor Willow is oddly curious about the Mouse Pokémon, Pikachu. Professor Willow has collected information about all different sorts of Pokémon around the world and it's up to you to figure out what about a  Pokémon makes it a Pikachu. Professor Willow also was kind enough to leave you a data dictionary of all the information he collected [here](./data-dic.txt). Good luck!"
   ]
  },
  {
   "cell_type": "markdown",
   "metadata": {},
   "source": [
    "<img src=\"./images/Pikachu.png\" alt=\"drawing\" width=\"450\"/>"
   ]
  },
  {
   "cell_type": "markdown",
   "metadata": {},
   "source": [
    "### 1. Import your libraries\n",
    "\n",
    "Professor Willow thinks that a K Nearest Neighbors Classifier and a Logistic Classifier will help you in figuring out the secrets behind Pikachu. Prtofessor Willow also thinks that PolynomialFeatures and GridSearchCV will be useful. A final note from Professor Willow says that he's a huge fan of confusion matrices. "
   ]
  },
  {
   "cell_type": "code",
   "execution_count": 1,
   "metadata": {},
   "outputs": [],
   "source": [
    "# import libraries here\n",
    "import pandas as pd\n",
    "import numpy as np\n",
    "from sklearn.linear_model import LogisticRegression\n",
    "from sklearn.neighbors import KNeighborsClassifier\n",
    "from sklearn.model_selection import train_test_split, GridSearchCV\n",
    "from sklearn.preprocessing import StandardScaler, PolynomialFeatures\n",
    "from sklearn.metrics import confusion_matrix, plot_confusion_matrix"
   ]
  },
  {
   "cell_type": "markdown",
   "metadata": {},
   "source": [
    "### 2. Read in the data that Professor Willow left"
   ]
  },
  {
   "cell_type": "code",
   "execution_count": 2,
   "metadata": {},
   "outputs": [
    {
     "data": {
      "text/html": [
       "<div>\n",
       "<style scoped>\n",
       "    .dataframe tbody tr th:only-of-type {\n",
       "        vertical-align: middle;\n",
       "    }\n",
       "\n",
       "    .dataframe tbody tr th {\n",
       "        vertical-align: top;\n",
       "    }\n",
       "\n",
       "    .dataframe thead th {\n",
       "        text-align: right;\n",
       "    }\n",
       "</style>\n",
       "<table border=\"1\" class=\"dataframe\">\n",
       "  <thead>\n",
       "    <tr style=\"text-align: right;\">\n",
       "      <th></th>\n",
       "      <th>id</th>\n",
       "      <th>pokestop_id</th>\n",
       "      <th>spawn_id</th>\n",
       "      <th>lat</th>\n",
       "      <th>lon</th>\n",
       "      <th>weight</th>\n",
       "      <th>size</th>\n",
       "      <th>expire_timestamp</th>\n",
       "      <th>updated</th>\n",
       "      <th>pokemon_id</th>\n",
       "      <th>...</th>\n",
       "      <th>sta_iv</th>\n",
       "      <th>level</th>\n",
       "      <th>weather</th>\n",
       "      <th>first_seen_timestamp</th>\n",
       "      <th>iv</th>\n",
       "      <th>expire_timestamp_verified</th>\n",
       "      <th>shiny</th>\n",
       "      <th>capture_1</th>\n",
       "      <th>capture_2</th>\n",
       "      <th>capture_3</th>\n",
       "    </tr>\n",
       "  </thead>\n",
       "  <tbody>\n",
       "    <tr>\n",
       "      <th>0</th>\n",
       "      <td>10000000196405525479</td>\n",
       "      <td>732091131ec54ffc8d966b9ed1d9fc29.16</td>\n",
       "      <td>9.305992e+12</td>\n",
       "      <td>39.785747</td>\n",
       "      <td>-105.210933</td>\n",
       "      <td>0.496835</td>\n",
       "      <td>0.262335</td>\n",
       "      <td>1608111951</td>\n",
       "      <td>1608111039</td>\n",
       "      <td>546</td>\n",
       "      <td>...</td>\n",
       "      <td>6.0</td>\n",
       "      <td>21.0</td>\n",
       "      <td>0</td>\n",
       "      <td>1608110461</td>\n",
       "      <td>33.33</td>\n",
       "      <td>1</td>\n",
       "      <td>0.0</td>\n",
       "      <td>0.245035</td>\n",
       "      <td>0.344021</td>\n",
       "      <td>0.430028</td>\n",
       "    </tr>\n",
       "    <tr>\n",
       "      <th>1</th>\n",
       "      <td>10000000657919169026</td>\n",
       "      <td>e7d880c1f8d44f2dbdd8d88a12d81d72.16</td>\n",
       "      <td>NaN</td>\n",
       "      <td>39.613422</td>\n",
       "      <td>-105.007173</td>\n",
       "      <td>NaN</td>\n",
       "      <td>NaN</td>\n",
       "      <td>1607792005</td>\n",
       "      <td>1607791405</td>\n",
       "      <td>126</td>\n",
       "      <td>...</td>\n",
       "      <td>NaN</td>\n",
       "      <td>NaN</td>\n",
       "      <td>0</td>\n",
       "      <td>1607790453</td>\n",
       "      <td>NaN</td>\n",
       "      <td>0</td>\n",
       "      <td>NaN</td>\n",
       "      <td>NaN</td>\n",
       "      <td>NaN</td>\n",
       "      <td>NaN</td>\n",
       "    </tr>\n",
       "    <tr>\n",
       "      <th>2</th>\n",
       "      <td>10000000781073480313</td>\n",
       "      <td>dab0171d8be74d5193c05e3546a688ad.16</td>\n",
       "      <td>NaN</td>\n",
       "      <td>40.171312</td>\n",
       "      <td>-105.106310</td>\n",
       "      <td>NaN</td>\n",
       "      <td>NaN</td>\n",
       "      <td>1607841665</td>\n",
       "      <td>1607841065</td>\n",
       "      <td>111</td>\n",
       "      <td>...</td>\n",
       "      <td>NaN</td>\n",
       "      <td>NaN</td>\n",
       "      <td>0</td>\n",
       "      <td>1607839459</td>\n",
       "      <td>NaN</td>\n",
       "      <td>0</td>\n",
       "      <td>NaN</td>\n",
       "      <td>NaN</td>\n",
       "      <td>NaN</td>\n",
       "      <td>NaN</td>\n",
       "    </tr>\n",
       "    <tr>\n",
       "      <th>3</th>\n",
       "      <td>1000000280175979506</td>\n",
       "      <td>886c8cf8e49f44a7a0bcd9cfb2a4c740.16</td>\n",
       "      <td>9.305393e+12</td>\n",
       "      <td>40.564882</td>\n",
       "      <td>-105.110684</td>\n",
       "      <td>101.891304</td>\n",
       "      <td>1.094030</td>\n",
       "      <td>1607809821</td>\n",
       "      <td>1607808385</td>\n",
       "      <td>111</td>\n",
       "      <td>...</td>\n",
       "      <td>0.0</td>\n",
       "      <td>20.0</td>\n",
       "      <td>0</td>\n",
       "      <td>1607806247</td>\n",
       "      <td>17.78</td>\n",
       "      <td>1</td>\n",
       "      <td>0.0</td>\n",
       "      <td>0.418480</td>\n",
       "      <td>0.556548</td>\n",
       "      <td>0.661835</td>\n",
       "    </tr>\n",
       "    <tr>\n",
       "      <th>4</th>\n",
       "      <td>10000002838548687180</td>\n",
       "      <td>a2a8d331ed4645669a9ea408bad50b21.16</td>\n",
       "      <td>9.305990e+12</td>\n",
       "      <td>39.721999</td>\n",
       "      <td>-105.139555</td>\n",
       "      <td>9.822134</td>\n",
       "      <td>0.378020</td>\n",
       "      <td>1607644982</td>\n",
       "      <td>1607643467</td>\n",
       "      <td>387</td>\n",
       "      <td>...</td>\n",
       "      <td>7.0</td>\n",
       "      <td>30.0</td>\n",
       "      <td>0</td>\n",
       "      <td>1607643253</td>\n",
       "      <td>42.22</td>\n",
       "      <td>1</td>\n",
       "      <td>0.0</td>\n",
       "      <td>0.136668</td>\n",
       "      <td>0.197829</td>\n",
       "      <td>0.254658</td>\n",
       "    </tr>\n",
       "  </tbody>\n",
       "</table>\n",
       "<p>5 rows × 26 columns</p>\n",
       "</div>"
      ],
      "text/plain": [
       "                     id                          pokestop_id      spawn_id  \\\n",
       "0  10000000196405525479  732091131ec54ffc8d966b9ed1d9fc29.16  9.305992e+12   \n",
       "1  10000000657919169026  e7d880c1f8d44f2dbdd8d88a12d81d72.16           NaN   \n",
       "2  10000000781073480313  dab0171d8be74d5193c05e3546a688ad.16           NaN   \n",
       "3   1000000280175979506  886c8cf8e49f44a7a0bcd9cfb2a4c740.16  9.305393e+12   \n",
       "4  10000002838548687180  a2a8d331ed4645669a9ea408bad50b21.16  9.305990e+12   \n",
       "\n",
       "         lat         lon      weight      size  expire_timestamp     updated  \\\n",
       "0  39.785747 -105.210933    0.496835  0.262335        1608111951  1608111039   \n",
       "1  39.613422 -105.007173         NaN       NaN        1607792005  1607791405   \n",
       "2  40.171312 -105.106310         NaN       NaN        1607841665  1607841065   \n",
       "3  40.564882 -105.110684  101.891304  1.094030        1607809821  1607808385   \n",
       "4  39.721999 -105.139555    9.822134  0.378020        1607644982  1607643467   \n",
       "\n",
       "   pokemon_id  ...  sta_iv  level  weather  first_seen_timestamp     iv  \\\n",
       "0         546  ...     6.0   21.0        0            1608110461  33.33   \n",
       "1         126  ...     NaN    NaN        0            1607790453    NaN   \n",
       "2         111  ...     NaN    NaN        0            1607839459    NaN   \n",
       "3         111  ...     0.0   20.0        0            1607806247  17.78   \n",
       "4         387  ...     7.0   30.0        0            1607643253  42.22   \n",
       "\n",
       "   expire_timestamp_verified  shiny  capture_1  capture_2  capture_3  \n",
       "0                          1    0.0   0.245035   0.344021   0.430028  \n",
       "1                          0    NaN        NaN        NaN        NaN  \n",
       "2                          0    NaN        NaN        NaN        NaN  \n",
       "3                          1    0.0   0.418480   0.556548   0.661835  \n",
       "4                          1    0.0   0.136668   0.197829   0.254658  \n",
       "\n",
       "[5 rows x 26 columns]"
      ]
     },
     "execution_count": 2,
     "metadata": {},
     "output_type": "execute_result"
    }
   ],
   "source": [
    "pokemon_df = pd.read_csv('./data/pokemon.csv')\n",
    "pokemon_df.head()"
   ]
  },
  {
   "cell_type": "code",
   "execution_count": 3,
   "metadata": {},
   "outputs": [
    {
     "data": {
      "text/plain": [
       "(50000, 26)"
      ]
     },
     "execution_count": 3,
     "metadata": {},
     "output_type": "execute_result"
    }
   ],
   "source": [
    "pokemon_df.shape"
   ]
  },
  {
   "cell_type": "code",
   "execution_count": 4,
   "metadata": {},
   "outputs": [
    {
     "data": {
      "text/plain": [
       "id                            uint64\n",
       "pokestop_id                   object\n",
       "spawn_id                     float64\n",
       "lat                          float64\n",
       "lon                          float64\n",
       "weight                       float64\n",
       "size                         float64\n",
       "expire_timestamp               int64\n",
       "updated                        int64\n",
       "pokemon_id                     int64\n",
       "move_1                       float64\n",
       "move_2                       float64\n",
       "gender                         int64\n",
       "cp                           float64\n",
       "atk_iv                       float64\n",
       "def_iv                       float64\n",
       "sta_iv                       float64\n",
       "level                        float64\n",
       "weather                        int64\n",
       "first_seen_timestamp           int64\n",
       "iv                           float64\n",
       "expire_timestamp_verified      int64\n",
       "shiny                        float64\n",
       "capture_1                    float64\n",
       "capture_2                    float64\n",
       "capture_3                    float64\n",
       "dtype: object"
      ]
     },
     "execution_count": 4,
     "metadata": {},
     "output_type": "execute_result"
    }
   ],
   "source": [
    "pokemon_df.dtypes"
   ]
  },
  {
   "cell_type": "markdown",
   "metadata": {},
   "source": [
    "### 3. The Professor says he only like Clean Data\n",
    "\n",
    "Do any cleaning to the data you think is neccessary, the professor thinks it's likely you'll drop some columns.  "
   ]
  },
  {
   "cell_type": "code",
   "execution_count": 5,
   "metadata": {
    "scrolled": false
   },
   "outputs": [],
   "source": [
    "# your data cleaning here\n",
    "\n",
    "# see how much we lose by dropping rows that have null values\n",
    "pokemon_df.dropna(inplace = True)"
   ]
  },
  {
   "cell_type": "code",
   "execution_count": 6,
   "metadata": {},
   "outputs": [
    {
     "data": {
      "text/html": [
       "<div>\n",
       "<style scoped>\n",
       "    .dataframe tbody tr th:only-of-type {\n",
       "        vertical-align: middle;\n",
       "    }\n",
       "\n",
       "    .dataframe tbody tr th {\n",
       "        vertical-align: top;\n",
       "    }\n",
       "\n",
       "    .dataframe thead th {\n",
       "        text-align: right;\n",
       "    }\n",
       "</style>\n",
       "<table border=\"1\" class=\"dataframe\">\n",
       "  <thead>\n",
       "    <tr style=\"text-align: right;\">\n",
       "      <th></th>\n",
       "      <th>lat</th>\n",
       "      <th>lon</th>\n",
       "      <th>weight</th>\n",
       "      <th>size</th>\n",
       "      <th>pokemon_id</th>\n",
       "      <th>move_1</th>\n",
       "      <th>move_2</th>\n",
       "      <th>gender</th>\n",
       "      <th>cp</th>\n",
       "      <th>atk_iv</th>\n",
       "      <th>def_iv</th>\n",
       "      <th>sta_iv</th>\n",
       "      <th>level</th>\n",
       "      <th>iv</th>\n",
       "      <th>shiny</th>\n",
       "      <th>capture_1</th>\n",
       "      <th>capture_2</th>\n",
       "      <th>capture_3</th>\n",
       "    </tr>\n",
       "  </thead>\n",
       "  <tbody>\n",
       "    <tr>\n",
       "      <th>0</th>\n",
       "      <td>39.785747</td>\n",
       "      <td>-105.210933</td>\n",
       "      <td>0.496835</td>\n",
       "      <td>0.262335</td>\n",
       "      <td>546</td>\n",
       "      <td>320.0</td>\n",
       "      <td>273.0</td>\n",
       "      <td>2</td>\n",
       "      <td>342.0</td>\n",
       "      <td>5.0</td>\n",
       "      <td>4.0</td>\n",
       "      <td>6.0</td>\n",
       "      <td>21.0</td>\n",
       "      <td>33.33</td>\n",
       "      <td>0.0</td>\n",
       "      <td>0.245035</td>\n",
       "      <td>0.344021</td>\n",
       "      <td>0.430028</td>\n",
       "    </tr>\n",
       "    <tr>\n",
       "      <th>3</th>\n",
       "      <td>40.564882</td>\n",
       "      <td>-105.110684</td>\n",
       "      <td>101.891304</td>\n",
       "      <td>1.094030</td>\n",
       "      <td>111</td>\n",
       "      <td>241.0</td>\n",
       "      <td>126.0</td>\n",
       "      <td>2</td>\n",
       "      <td>815.0</td>\n",
       "      <td>6.0</td>\n",
       "      <td>2.0</td>\n",
       "      <td>0.0</td>\n",
       "      <td>20.0</td>\n",
       "      <td>17.78</td>\n",
       "      <td>0.0</td>\n",
       "      <td>0.418480</td>\n",
       "      <td>0.556548</td>\n",
       "      <td>0.661835</td>\n",
       "    </tr>\n",
       "    <tr>\n",
       "      <th>4</th>\n",
       "      <td>39.721999</td>\n",
       "      <td>-105.139555</td>\n",
       "      <td>9.822134</td>\n",
       "      <td>0.378020</td>\n",
       "      <td>387</td>\n",
       "      <td>215.0</td>\n",
       "      <td>273.0</td>\n",
       "      <td>1</td>\n",
       "      <td>881.0</td>\n",
       "      <td>3.0</td>\n",
       "      <td>9.0</td>\n",
       "      <td>7.0</td>\n",
       "      <td>30.0</td>\n",
       "      <td>42.22</td>\n",
       "      <td>0.0</td>\n",
       "      <td>0.136668</td>\n",
       "      <td>0.197829</td>\n",
       "      <td>0.254658</td>\n",
       "    </tr>\n",
       "    <tr>\n",
       "      <th>5</th>\n",
       "      <td>40.006848</td>\n",
       "      <td>-105.253354</td>\n",
       "      <td>0.507824</td>\n",
       "      <td>0.271311</td>\n",
       "      <td>546</td>\n",
       "      <td>320.0</td>\n",
       "      <td>272.0</td>\n",
       "      <td>2</td>\n",
       "      <td>279.0</td>\n",
       "      <td>4.0</td>\n",
       "      <td>7.0</td>\n",
       "      <td>8.0</td>\n",
       "      <td>17.0</td>\n",
       "      <td>42.22</td>\n",
       "      <td>0.0</td>\n",
       "      <td>0.272335</td>\n",
       "      <td>0.379278</td>\n",
       "      <td>0.470503</td>\n",
       "    </tr>\n",
       "    <tr>\n",
       "      <th>9</th>\n",
       "      <td>39.751932</td>\n",
       "      <td>-105.000270</td>\n",
       "      <td>52.345867</td>\n",
       "      <td>2.945922</td>\n",
       "      <td>336</td>\n",
       "      <td>266.0</td>\n",
       "      <td>13.0</td>\n",
       "      <td>2</td>\n",
       "      <td>90.0</td>\n",
       "      <td>10.0</td>\n",
       "      <td>14.0</td>\n",
       "      <td>15.0</td>\n",
       "      <td>2.0</td>\n",
       "      <td>86.67</td>\n",
       "      <td>0.0</td>\n",
       "      <td>0.901454</td>\n",
       "      <td>0.969064</td>\n",
       "      <td>0.990289</td>\n",
       "    </tr>\n",
       "  </tbody>\n",
       "</table>\n",
       "</div>"
      ],
      "text/plain": [
       "         lat         lon      weight      size  pokemon_id  move_1  move_2  \\\n",
       "0  39.785747 -105.210933    0.496835  0.262335         546   320.0   273.0   \n",
       "3  40.564882 -105.110684  101.891304  1.094030         111   241.0   126.0   \n",
       "4  39.721999 -105.139555    9.822134  0.378020         387   215.0   273.0   \n",
       "5  40.006848 -105.253354    0.507824  0.271311         546   320.0   272.0   \n",
       "9  39.751932 -105.000270   52.345867  2.945922         336   266.0    13.0   \n",
       "\n",
       "   gender     cp  atk_iv  def_iv  sta_iv  level     iv  shiny  capture_1  \\\n",
       "0       2  342.0     5.0     4.0     6.0   21.0  33.33    0.0   0.245035   \n",
       "3       2  815.0     6.0     2.0     0.0   20.0  17.78    0.0   0.418480   \n",
       "4       1  881.0     3.0     9.0     7.0   30.0  42.22    0.0   0.136668   \n",
       "5       2  279.0     4.0     7.0     8.0   17.0  42.22    0.0   0.272335   \n",
       "9       2   90.0    10.0    14.0    15.0    2.0  86.67    0.0   0.901454   \n",
       "\n",
       "   capture_2  capture_3  \n",
       "0   0.344021   0.430028  \n",
       "3   0.556548   0.661835  \n",
       "4   0.197829   0.254658  \n",
       "5   0.379278   0.470503  \n",
       "9   0.969064   0.990289  "
      ]
     },
     "execution_count": 6,
     "metadata": {},
     "output_type": "execute_result"
    }
   ],
   "source": [
    "# remove columns we don't think we'll be using\n",
    "pokemon_df.drop(columns = ['id', 'pokestop_id', 'spawn_id', 'expire_timestamp', 'updated', 'weather', \n",
    "                          'first_seen_timestamp', 'expire_timestamp_verified'], axis = 1, inplace = True)\n",
    "pokemon_df.head()"
   ]
  },
  {
   "cell_type": "code",
   "execution_count": 7,
   "metadata": {},
   "outputs": [],
   "source": [
    "pokemon_df.reset_index(drop = True, inplace = True)"
   ]
  },
  {
   "cell_type": "markdown",
   "metadata": {},
   "source": [
    "### 4. The Professor wants you to use the pokemon_id column as your target variable\n",
    "\n",
    "**Note** : Pikachu has a national Pokédex number of 25. "
   ]
  },
  {
   "cell_type": "code",
   "execution_count": 8,
   "metadata": {},
   "outputs": [
    {
     "data": {
      "text/html": [
       "<div>\n",
       "<style scoped>\n",
       "    .dataframe tbody tr th:only-of-type {\n",
       "        vertical-align: middle;\n",
       "    }\n",
       "\n",
       "    .dataframe tbody tr th {\n",
       "        vertical-align: top;\n",
       "    }\n",
       "\n",
       "    .dataframe thead th {\n",
       "        text-align: right;\n",
       "    }\n",
       "</style>\n",
       "<table border=\"1\" class=\"dataframe\">\n",
       "  <thead>\n",
       "    <tr style=\"text-align: right;\">\n",
       "      <th></th>\n",
       "      <th>lat</th>\n",
       "      <th>lon</th>\n",
       "      <th>weight</th>\n",
       "      <th>size</th>\n",
       "      <th>pokemon_id</th>\n",
       "      <th>move_1</th>\n",
       "      <th>move_2</th>\n",
       "      <th>gender</th>\n",
       "      <th>cp</th>\n",
       "      <th>atk_iv</th>\n",
       "      <th>def_iv</th>\n",
       "      <th>sta_iv</th>\n",
       "      <th>level</th>\n",
       "      <th>iv</th>\n",
       "      <th>shiny</th>\n",
       "      <th>capture_1</th>\n",
       "      <th>capture_2</th>\n",
       "      <th>capture_3</th>\n",
       "    </tr>\n",
       "  </thead>\n",
       "  <tbody>\n",
       "    <tr>\n",
       "      <th>0</th>\n",
       "      <td>39.785747</td>\n",
       "      <td>-105.210933</td>\n",
       "      <td>0.496835</td>\n",
       "      <td>0.262335</td>\n",
       "      <td>0</td>\n",
       "      <td>320.0</td>\n",
       "      <td>273.0</td>\n",
       "      <td>2</td>\n",
       "      <td>342.0</td>\n",
       "      <td>5.0</td>\n",
       "      <td>4.0</td>\n",
       "      <td>6.0</td>\n",
       "      <td>21.0</td>\n",
       "      <td>33.33</td>\n",
       "      <td>0.0</td>\n",
       "      <td>0.245035</td>\n",
       "      <td>0.344021</td>\n",
       "      <td>0.430028</td>\n",
       "    </tr>\n",
       "    <tr>\n",
       "      <th>1</th>\n",
       "      <td>40.564882</td>\n",
       "      <td>-105.110684</td>\n",
       "      <td>101.891304</td>\n",
       "      <td>1.094030</td>\n",
       "      <td>0</td>\n",
       "      <td>241.0</td>\n",
       "      <td>126.0</td>\n",
       "      <td>2</td>\n",
       "      <td>815.0</td>\n",
       "      <td>6.0</td>\n",
       "      <td>2.0</td>\n",
       "      <td>0.0</td>\n",
       "      <td>20.0</td>\n",
       "      <td>17.78</td>\n",
       "      <td>0.0</td>\n",
       "      <td>0.418480</td>\n",
       "      <td>0.556548</td>\n",
       "      <td>0.661835</td>\n",
       "    </tr>\n",
       "    <tr>\n",
       "      <th>2</th>\n",
       "      <td>39.721999</td>\n",
       "      <td>-105.139555</td>\n",
       "      <td>9.822134</td>\n",
       "      <td>0.378020</td>\n",
       "      <td>0</td>\n",
       "      <td>215.0</td>\n",
       "      <td>273.0</td>\n",
       "      <td>1</td>\n",
       "      <td>881.0</td>\n",
       "      <td>3.0</td>\n",
       "      <td>9.0</td>\n",
       "      <td>7.0</td>\n",
       "      <td>30.0</td>\n",
       "      <td>42.22</td>\n",
       "      <td>0.0</td>\n",
       "      <td>0.136668</td>\n",
       "      <td>0.197829</td>\n",
       "      <td>0.254658</td>\n",
       "    </tr>\n",
       "    <tr>\n",
       "      <th>3</th>\n",
       "      <td>40.006848</td>\n",
       "      <td>-105.253354</td>\n",
       "      <td>0.507824</td>\n",
       "      <td>0.271311</td>\n",
       "      <td>0</td>\n",
       "      <td>320.0</td>\n",
       "      <td>272.0</td>\n",
       "      <td>2</td>\n",
       "      <td>279.0</td>\n",
       "      <td>4.0</td>\n",
       "      <td>7.0</td>\n",
       "      <td>8.0</td>\n",
       "      <td>17.0</td>\n",
       "      <td>42.22</td>\n",
       "      <td>0.0</td>\n",
       "      <td>0.272335</td>\n",
       "      <td>0.379278</td>\n",
       "      <td>0.470503</td>\n",
       "    </tr>\n",
       "    <tr>\n",
       "      <th>4</th>\n",
       "      <td>39.751932</td>\n",
       "      <td>-105.000270</td>\n",
       "      <td>52.345867</td>\n",
       "      <td>2.945922</td>\n",
       "      <td>0</td>\n",
       "      <td>266.0</td>\n",
       "      <td>13.0</td>\n",
       "      <td>2</td>\n",
       "      <td>90.0</td>\n",
       "      <td>10.0</td>\n",
       "      <td>14.0</td>\n",
       "      <td>15.0</td>\n",
       "      <td>2.0</td>\n",
       "      <td>86.67</td>\n",
       "      <td>0.0</td>\n",
       "      <td>0.901454</td>\n",
       "      <td>0.969064</td>\n",
       "      <td>0.990289</td>\n",
       "    </tr>\n",
       "  </tbody>\n",
       "</table>\n",
       "</div>"
      ],
      "text/plain": [
       "         lat         lon      weight      size  pokemon_id  move_1  move_2  \\\n",
       "0  39.785747 -105.210933    0.496835  0.262335           0   320.0   273.0   \n",
       "1  40.564882 -105.110684  101.891304  1.094030           0   241.0   126.0   \n",
       "2  39.721999 -105.139555    9.822134  0.378020           0   215.0   273.0   \n",
       "3  40.006848 -105.253354    0.507824  0.271311           0   320.0   272.0   \n",
       "4  39.751932 -105.000270   52.345867  2.945922           0   266.0    13.0   \n",
       "\n",
       "   gender     cp  atk_iv  def_iv  sta_iv  level     iv  shiny  capture_1  \\\n",
       "0       2  342.0     5.0     4.0     6.0   21.0  33.33    0.0   0.245035   \n",
       "1       2  815.0     6.0     2.0     0.0   20.0  17.78    0.0   0.418480   \n",
       "2       1  881.0     3.0     9.0     7.0   30.0  42.22    0.0   0.136668   \n",
       "3       2  279.0     4.0     7.0     8.0   17.0  42.22    0.0   0.272335   \n",
       "4       2   90.0    10.0    14.0    15.0    2.0  86.67    0.0   0.901454   \n",
       "\n",
       "   capture_2  capture_3  \n",
       "0   0.344021   0.430028  \n",
       "1   0.556548   0.661835  \n",
       "2   0.197829   0.254658  \n",
       "3   0.379278   0.470503  \n",
       "4   0.969064   0.990289  "
      ]
     },
     "execution_count": 8,
     "metadata": {},
     "output_type": "execute_result"
    }
   ],
   "source": [
    "# set up your target variable\n",
    "pokemon_df['pokemon_id'] = [1 if pokemon_df['pokemon_id'][i] == 25 else 0 for i in pokemon_df.index]\n",
    "pokemon_df.head()"
   ]
  },
  {
   "cell_type": "code",
   "execution_count": 9,
   "metadata": {},
   "outputs": [
    {
     "data": {
      "text/plain": [
       "(10678, 18)"
      ]
     },
     "execution_count": 9,
     "metadata": {},
     "output_type": "execute_result"
    }
   ],
   "source": [
    "pokemon_df.shape"
   ]
  },
  {
   "cell_type": "markdown",
   "metadata": {},
   "source": [
    "### 5. The Professor has given you the freedom to choose whatever predictor variables you want, however he requires that you to use PolynomialFeatures with at least two variables, as well as use at least one categorical variable.\n",
    "\n",
    "Create your predictor variables below and make sure to dummify your categorical variable. You may also want to scale your data here too. "
   ]
  },
  {
   "cell_type": "code",
   "execution_count": 10,
   "metadata": {},
   "outputs": [
    {
     "data": {
      "text/html": [
       "<div>\n",
       "<style scoped>\n",
       "    .dataframe tbody tr th:only-of-type {\n",
       "        vertical-align: middle;\n",
       "    }\n",
       "\n",
       "    .dataframe tbody tr th {\n",
       "        vertical-align: top;\n",
       "    }\n",
       "\n",
       "    .dataframe thead th {\n",
       "        text-align: right;\n",
       "    }\n",
       "</style>\n",
       "<table border=\"1\" class=\"dataframe\">\n",
       "  <thead>\n",
       "    <tr style=\"text-align: right;\">\n",
       "      <th></th>\n",
       "      <th>weight</th>\n",
       "      <th>size</th>\n",
       "      <th>weight^2</th>\n",
       "      <th>weight size</th>\n",
       "      <th>size^2</th>\n",
       "    </tr>\n",
       "  </thead>\n",
       "  <tbody>\n",
       "    <tr>\n",
       "      <th>0</th>\n",
       "      <td>-0.622943</td>\n",
       "      <td>-0.918572</td>\n",
       "      <td>-0.169052</td>\n",
       "      <td>-0.399996</td>\n",
       "      <td>-0.585803</td>\n",
       "    </tr>\n",
       "    <tr>\n",
       "      <th>1</th>\n",
       "      <td>3.073511</td>\n",
       "      <td>1.429762</td>\n",
       "      <td>1.484488</td>\n",
       "      <td>2.422870</td>\n",
       "      <td>1.058241</td>\n",
       "    </tr>\n",
       "    <tr>\n",
       "      <th>2</th>\n",
       "      <td>-0.282978</td>\n",
       "      <td>-0.591929</td>\n",
       "      <td>-0.153725</td>\n",
       "      <td>-0.309165</td>\n",
       "      <td>-0.477841</td>\n",
       "    </tr>\n",
       "    <tr>\n",
       "      <th>3</th>\n",
       "      <td>-0.622542</td>\n",
       "      <td>-0.893228</td>\n",
       "      <td>-0.169050</td>\n",
       "      <td>-0.399807</td>\n",
       "      <td>-0.578822</td>\n",
       "    </tr>\n",
       "    <tr>\n",
       "      <th>4</th>\n",
       "      <td>1.267274</td>\n",
       "      <td>6.658679</td>\n",
       "      <td>0.267340</td>\n",
       "      <td>3.506329</td>\n",
       "      <td>11.961712</td>\n",
       "    </tr>\n",
       "  </tbody>\n",
       "</table>\n",
       "</div>"
      ],
      "text/plain": [
       "     weight      size  weight^2  weight size     size^2\n",
       "0 -0.622943 -0.918572 -0.169052    -0.399996  -0.585803\n",
       "1  3.073511  1.429762  1.484488     2.422870   1.058241\n",
       "2 -0.282978 -0.591929 -0.153725    -0.309165  -0.477841\n",
       "3 -0.622542 -0.893228 -0.169050    -0.399807  -0.578822\n",
       "4  1.267274  6.658679  0.267340     3.506329  11.961712"
      ]
     },
     "execution_count": 10,
     "metadata": {},
     "output_type": "execute_result"
    }
   ],
   "source": [
    "# create Poly variables\n",
    "poly = PolynomialFeatures(include_bias = False)\n",
    "features = ['weight', 'size']\n",
    "X = pokemon_df[features]\n",
    "X_poly = poly.fit_transform(X)\n",
    "poly_df = pd.DataFrame(X_poly, columns=poly.get_feature_names(input_features=features))\n",
    "# scale data\n",
    "sc = StandardScaler()\n",
    "scaled_df = sc.fit_transform(poly_df)\n",
    "#scaled_df.shape\n",
    "scaled_df = pd.DataFrame(scaled_df, columns=poly_df.columns)\n",
    "scaled_df.head()"
   ]
  },
  {
   "cell_type": "code",
   "execution_count": 11,
   "metadata": {},
   "outputs": [],
   "source": [
    "# create dummies\n",
    "X_dummy = pokemon_df[['move_1', 'move_2']]\n",
    "\n",
    "X_dummy = X_dummy.astype(int)\n",
    "X_dummy['move_1'] = [0 if pokemon_df['move_1'][i] == 219 else 1 if pokemon_df['move_1'][i] == 205 else 2 \n",
    "                        for i in pokemon_df.index]\n",
    "X_dummy['move_2'] = [0 if pokemon_df['move_2'][i] == 35 else 1 if pokemon_df['move_1'][i] == 251 else\n",
    "                        2 if pokemon_df['move_2'][i] == 79 else 3 for i in pokemon_df.index]\n",
    "X_dummy = X_dummy.astype(str)\n",
    "X_dummy = pd.get_dummies(X_dummy, drop_first = True)"
   ]
  },
  {
   "cell_type": "code",
   "execution_count": 12,
   "metadata": {},
   "outputs": [
    {
     "data": {
      "text/html": [
       "<div>\n",
       "<style scoped>\n",
       "    .dataframe tbody tr th:only-of-type {\n",
       "        vertical-align: middle;\n",
       "    }\n",
       "\n",
       "    .dataframe tbody tr th {\n",
       "        vertical-align: top;\n",
       "    }\n",
       "\n",
       "    .dataframe thead th {\n",
       "        text-align: right;\n",
       "    }\n",
       "</style>\n",
       "<table border=\"1\" class=\"dataframe\">\n",
       "  <thead>\n",
       "    <tr style=\"text-align: right;\">\n",
       "      <th></th>\n",
       "      <th>move_1_1</th>\n",
       "      <th>move_1_2</th>\n",
       "      <th>move_2_2</th>\n",
       "      <th>move_2_3</th>\n",
       "    </tr>\n",
       "  </thead>\n",
       "  <tbody>\n",
       "    <tr>\n",
       "      <th>0</th>\n",
       "      <td>0</td>\n",
       "      <td>1</td>\n",
       "      <td>0</td>\n",
       "      <td>1</td>\n",
       "    </tr>\n",
       "    <tr>\n",
       "      <th>1</th>\n",
       "      <td>0</td>\n",
       "      <td>1</td>\n",
       "      <td>0</td>\n",
       "      <td>1</td>\n",
       "    </tr>\n",
       "    <tr>\n",
       "      <th>2</th>\n",
       "      <td>0</td>\n",
       "      <td>1</td>\n",
       "      <td>0</td>\n",
       "      <td>1</td>\n",
       "    </tr>\n",
       "    <tr>\n",
       "      <th>3</th>\n",
       "      <td>0</td>\n",
       "      <td>1</td>\n",
       "      <td>0</td>\n",
       "      <td>1</td>\n",
       "    </tr>\n",
       "    <tr>\n",
       "      <th>4</th>\n",
       "      <td>0</td>\n",
       "      <td>1</td>\n",
       "      <td>0</td>\n",
       "      <td>1</td>\n",
       "    </tr>\n",
       "  </tbody>\n",
       "</table>\n",
       "</div>"
      ],
      "text/plain": [
       "   move_1_1  move_1_2  move_2_2  move_2_3\n",
       "0         0         1         0         1\n",
       "1         0         1         0         1\n",
       "2         0         1         0         1\n",
       "3         0         1         0         1\n",
       "4         0         1         0         1"
      ]
     },
     "execution_count": 12,
     "metadata": {},
     "output_type": "execute_result"
    }
   ],
   "source": [
    "X_dummy.head()"
   ]
  },
  {
   "cell_type": "code",
   "execution_count": 13,
   "metadata": {},
   "outputs": [
    {
     "data": {
      "text/html": [
       "<div>\n",
       "<style scoped>\n",
       "    .dataframe tbody tr th:only-of-type {\n",
       "        vertical-align: middle;\n",
       "    }\n",
       "\n",
       "    .dataframe tbody tr th {\n",
       "        vertical-align: top;\n",
       "    }\n",
       "\n",
       "    .dataframe thead th {\n",
       "        text-align: right;\n",
       "    }\n",
       "</style>\n",
       "<table border=\"1\" class=\"dataframe\">\n",
       "  <thead>\n",
       "    <tr style=\"text-align: right;\">\n",
       "      <th></th>\n",
       "      <th>move_1_1</th>\n",
       "      <th>move_1_2</th>\n",
       "      <th>move_2_2</th>\n",
       "      <th>move_2_3</th>\n",
       "      <th>weight</th>\n",
       "      <th>size</th>\n",
       "      <th>weight^2</th>\n",
       "      <th>weight size</th>\n",
       "      <th>size^2</th>\n",
       "    </tr>\n",
       "  </thead>\n",
       "  <tbody>\n",
       "    <tr>\n",
       "      <th>0</th>\n",
       "      <td>0</td>\n",
       "      <td>1</td>\n",
       "      <td>0</td>\n",
       "      <td>1</td>\n",
       "      <td>-0.622943</td>\n",
       "      <td>-0.918572</td>\n",
       "      <td>-0.169052</td>\n",
       "      <td>-0.399996</td>\n",
       "      <td>-0.585803</td>\n",
       "    </tr>\n",
       "    <tr>\n",
       "      <th>1</th>\n",
       "      <td>0</td>\n",
       "      <td>1</td>\n",
       "      <td>0</td>\n",
       "      <td>1</td>\n",
       "      <td>3.073511</td>\n",
       "      <td>1.429762</td>\n",
       "      <td>1.484488</td>\n",
       "      <td>2.422870</td>\n",
       "      <td>1.058241</td>\n",
       "    </tr>\n",
       "    <tr>\n",
       "      <th>2</th>\n",
       "      <td>0</td>\n",
       "      <td>1</td>\n",
       "      <td>0</td>\n",
       "      <td>1</td>\n",
       "      <td>-0.282978</td>\n",
       "      <td>-0.591929</td>\n",
       "      <td>-0.153725</td>\n",
       "      <td>-0.309165</td>\n",
       "      <td>-0.477841</td>\n",
       "    </tr>\n",
       "    <tr>\n",
       "      <th>3</th>\n",
       "      <td>0</td>\n",
       "      <td>1</td>\n",
       "      <td>0</td>\n",
       "      <td>1</td>\n",
       "      <td>-0.622542</td>\n",
       "      <td>-0.893228</td>\n",
       "      <td>-0.169050</td>\n",
       "      <td>-0.399807</td>\n",
       "      <td>-0.578822</td>\n",
       "    </tr>\n",
       "    <tr>\n",
       "      <th>4</th>\n",
       "      <td>0</td>\n",
       "      <td>1</td>\n",
       "      <td>0</td>\n",
       "      <td>1</td>\n",
       "      <td>1.267274</td>\n",
       "      <td>6.658679</td>\n",
       "      <td>0.267340</td>\n",
       "      <td>3.506329</td>\n",
       "      <td>11.961712</td>\n",
       "    </tr>\n",
       "  </tbody>\n",
       "</table>\n",
       "</div>"
      ],
      "text/plain": [
       "   move_1_1  move_1_2  move_2_2  move_2_3    weight      size  weight^2  \\\n",
       "0         0         1         0         1 -0.622943 -0.918572 -0.169052   \n",
       "1         0         1         0         1  3.073511  1.429762  1.484488   \n",
       "2         0         1         0         1 -0.282978 -0.591929 -0.153725   \n",
       "3         0         1         0         1 -0.622542 -0.893228 -0.169050   \n",
       "4         0         1         0         1  1.267274  6.658679  0.267340   \n",
       "\n",
       "   weight size     size^2  \n",
       "0    -0.399996  -0.585803  \n",
       "1     2.422870   1.058241  \n",
       "2    -0.309165  -0.477841  \n",
       "3    -0.399807  -0.578822  \n",
       "4     3.506329  11.961712  "
      ]
     },
     "execution_count": 13,
     "metadata": {},
     "output_type": "execute_result"
    }
   ],
   "source": [
    "X = pd.concat([X_dummy, scaled_df], axis = 1)\n",
    "X.head()"
   ]
  },
  {
   "cell_type": "markdown",
   "metadata": {},
   "source": [
    "### 6. Verify how many Pikachu and not Pikachu are in the data and create a train/test split appropriately. "
   ]
  },
  {
   "cell_type": "code",
   "execution_count": 14,
   "metadata": {},
   "outputs": [
    {
     "data": {
      "text/plain": [
       "0    10360\n",
       "1      318\n",
       "Name: pokemon_id, dtype: int64"
      ]
     },
     "execution_count": 14,
     "metadata": {},
     "output_type": "execute_result"
    }
   ],
   "source": [
    "# train/test split here\n",
    "y = pokemon_df['pokemon_id']\n",
    "y.value_counts()"
   ]
  },
  {
   "cell_type": "code",
   "execution_count": 15,
   "metadata": {},
   "outputs": [],
   "source": [
    "# unbalanced classes we will use stratify\n",
    "X_train, X_test, y_train, y_test = train_test_split(X, y, stratify = y)"
   ]
  },
  {
   "cell_type": "markdown",
   "metadata": {},
   "source": [
    "## OH NO!!!! Team Rocket disrupts your work!\n",
    "\n",
    "<img src=\"./images/team_rocket.png\" alt=\"drawing\" width=\"450\"/>"
   ]
  },
  {
   "cell_type": "markdown",
   "metadata": {},
   "source": [
    "## Luckily,  Professor Willow left you with a strong Pikachu to send them blasting off again :)"
   ]
  },
  {
   "cell_type": "markdown",
   "metadata": {},
   "source": [
    "### 7. With Team Rocket taken care of, you are now tasked with using GridSearch to fit a K Nearest Neighbors model using odd numbers of nearest neighbors up to 25. "
   ]
  },
  {
   "cell_type": "code",
   "execution_count": 16,
   "metadata": {},
   "outputs": [
    {
     "name": "stdout",
     "output_type": "stream",
     "text": [
      "Fitting 5 folds for each of 13 candidates, totalling 65 fits\n"
     ]
    },
    {
     "name": "stderr",
     "output_type": "stream",
     "text": [
      "[Parallel(n_jobs=-1)]: Using backend LokyBackend with 32 concurrent workers.\n",
      "[Parallel(n_jobs=-1)]: Done  65 out of  65 | elapsed:    6.9s finished\n"
     ]
    },
    {
     "data": {
      "text/plain": [
       "GridSearchCV(cv=5, estimator=KNeighborsClassifier(), n_jobs=-1,\n",
       "             param_grid={'n_neighbors': [1, 3, 5, 7, 9, 11, 13, 15, 17, 19, 21,\n",
       "                                         23, 25]},\n",
       "             verbose=1)"
      ]
     },
     "execution_count": 16,
     "metadata": {},
     "output_type": "execute_result"
    }
   ],
   "source": [
    "# grid search code here\n",
    "knn_params = {\n",
    "    'n_neighbors': [i for i in range(1, 26) if i % 2 == 1]\n",
    "}\n",
    "\n",
    "knn_gridsearch = GridSearchCV(estimator = KNeighborsClassifier(),\n",
    "                             param_grid = knn_params, \n",
    "                             cv = 5, \n",
    "                             verbose = 1,\n",
    "                             n_jobs = -1)\n",
    "knn_gridsearch.fit(X_train, y_train)"
   ]
  },
  {
   "cell_type": "markdown",
   "metadata": {},
   "source": [
    "### 8. Determine the best number of neighbors to use. Also comment on how this affects the bias/varience of your model, Dr. Willow expects a good explanation!"
   ]
  },
  {
   "cell_type": "code",
   "execution_count": 17,
   "metadata": {},
   "outputs": [
    {
     "data": {
      "text/plain": [
       "{'n_neighbors': 3}"
      ]
     },
     "execution_count": 17,
     "metadata": {},
     "output_type": "execute_result"
    }
   ],
   "source": [
    "# best neighbors here \n",
    "knn_gridsearch.best_params_"
   ]
  },
  {
   "cell_type": "markdown",
   "metadata": {},
   "source": [
    "Here we see our best result is using 5 nearest neighbors. As we have a low number of neighbors we can assume that this model is likely high varience, low bias. "
   ]
  },
  {
   "cell_type": "markdown",
   "metadata": {},
   "source": [
    "### 9. Score your model, decide whether your model is overfit or underfit. "
   ]
  },
  {
   "cell_type": "code",
   "execution_count": 18,
   "metadata": {},
   "outputs": [
    {
     "data": {
      "text/plain": [
       "0.9952545264702695"
      ]
     },
     "execution_count": 18,
     "metadata": {},
     "output_type": "execute_result"
    }
   ],
   "source": [
    "# score model here\n",
    "knn_gridsearch.best_score_"
   ]
  },
  {
   "cell_type": "code",
   "execution_count": 19,
   "metadata": {},
   "outputs": [
    {
     "name": "stderr",
     "output_type": "stream",
     "text": [
      "[Parallel(n_jobs=-1)]: Using backend LokyBackend with 32 concurrent workers.\n"
     ]
    },
    {
     "name": "stdout",
     "output_type": "stream",
     "text": [
      "Fitting 5 folds for each of 13 candidates, totalling 65 fits\n"
     ]
    },
    {
     "name": "stderr",
     "output_type": "stream",
     "text": [
      "[Parallel(n_jobs=-1)]: Done  65 out of  65 | elapsed:    0.7s finished\n"
     ]
    },
    {
     "data": {
      "text/plain": [
       "GridSearchCV(cv=5, estimator=KNeighborsClassifier(), n_jobs=-1,\n",
       "             param_grid={'n_neighbors': [1, 3, 5, 7, 9, 11, 13, 15, 17, 19, 21,\n",
       "                                         23, 25]},\n",
       "             verbose=1)"
      ]
     },
     "execution_count": 19,
     "metadata": {},
     "output_type": "execute_result"
    }
   ],
   "source": [
    "knn_gridsearch.fit(X_test, y_test)"
   ]
  },
  {
   "cell_type": "code",
   "execution_count": 20,
   "metadata": {},
   "outputs": [
    {
     "data": {
      "text/plain": [
       "0.9940074906367041"
      ]
     },
     "execution_count": 20,
     "metadata": {},
     "output_type": "execute_result"
    }
   ],
   "source": [
    "knn_gridsearch.best_score_"
   ]
  },
  {
   "cell_type": "markdown",
   "metadata": {},
   "source": [
    "Here we see that our model is neither overfit or underfit as there is not much differnce between our scores. "
   ]
  },
  {
   "cell_type": "code",
   "execution_count": 21,
   "metadata": {},
   "outputs": [],
   "source": [
    "y_preds = knn_gridsearch.predict(X_test)"
   ]
  },
  {
   "cell_type": "markdown",
   "metadata": {},
   "source": [
    "### 10. Create and plot a confusion matrix to see how well your model identified Pikachu. Comment on the specificity and sensitivity of your model. "
   ]
  },
  {
   "cell_type": "code",
   "execution_count": 22,
   "metadata": {},
   "outputs": [
    {
     "data": {
      "text/plain": [
       "array([[2586,    4],\n",
       "       [  12,   68]])"
      ]
     },
     "execution_count": 22,
     "metadata": {},
     "output_type": "execute_result"
    }
   ],
   "source": [
    "# confusion matrix here\n",
    "\n",
    "confusion_matrix(y_test, y_preds)"
   ]
  },
  {
   "cell_type": "code",
   "execution_count": 23,
   "metadata": {},
   "outputs": [
    {
     "data": {
      "text/plain": [
       "<sklearn.metrics._plot.confusion_matrix.ConfusionMatrixDisplay at 0x7fb5cd42e070>"
      ]
     },
     "execution_count": 23,
     "metadata": {},
     "output_type": "execute_result"
    },
    {
     "data": {
      "image/png": "[encoded data removed]",
      "text/plain": [
       "<Figure size 432x288 with 2 Axes>"
      ]
     },
     "metadata": {
      "needs_background": "light"
     },
     "output_type": "display_data"
    }
   ],
   "source": [
    "plot_confusion_matrix(knn_gridsearch, X_test, y_test)"
   ]
  },
  {
   "cell_type": "code",
   "execution_count": 24,
   "metadata": {},
   "outputs": [],
   "source": [
    "tn, fp, fn, tp = confusion_matrix(y_test, y_preds).ravel()"
   ]
  },
  {
   "cell_type": "code",
   "execution_count": 25,
   "metadata": {},
   "outputs": [
    {
     "data": {
      "text/plain": [
       "0.9984555984555985"
      ]
     },
     "execution_count": 25,
     "metadata": {},
     "output_type": "execute_result"
    }
   ],
   "source": [
    "# specificity\n",
    "(tn) / (tn + fp)"
   ]
  },
  {
   "cell_type": "code",
   "execution_count": 26,
   "metadata": {},
   "outputs": [
    {
     "data": {
      "text/plain": [
       "0.85"
      ]
     },
     "execution_count": 26,
     "metadata": {},
     "output_type": "execute_result"
    }
   ],
   "source": [
    "# sensitivity\n",
    "(tp) / (tp + fn)"
   ]
  },
  {
   "cell_type": "markdown",
   "metadata": {},
   "source": [
    "Here we see that our specificity and sensitivity are both high so we can conclude that our model is amazing at determining if a Pokémon is a Pikachu. Any false negatives and positives we had we can blame on the Transform Pokémon, Ditto as it is known to like to pose as Pikachu and other Pokémon from time to time.  "
   ]
  },
  {
   "cell_type": "markdown",
   "metadata": {},
   "source": [
    "### 11. Professor Willow doesn't think K Nearest Neighbors will be good at identifying Pikachu so he asks you to create a Logistic Regression model that he thinks will do better. \n",
    "\n",
    "Do this with LASSO and Ridge regularization with $\\alpha $ values between 1 and 100. As the professor loves grid search you are expected to do it here as well. "
   ]
  },
  {
   "cell_type": "code",
   "execution_count": 27,
   "metadata": {},
   "outputs": [
    {
     "name": "stdout",
     "output_type": "stream",
     "text": [
      "Fitting 5 folds for each of 20 candidates, totalling 100 fits\n"
     ]
    },
    {
     "name": "stderr",
     "output_type": "stream",
     "text": [
      "[Parallel(n_jobs=-1)]: Using backend LokyBackend with 32 concurrent workers.\n",
      "[Parallel(n_jobs=-1)]: Done 100 out of 100 | elapsed:    0.9s finished\n"
     ]
    },
    {
     "data": {
      "text/plain": [
       "GridSearchCV(cv=5, estimator=LogisticRegression(solver='liblinear'), n_jobs=-1,\n",
       "             param_grid={'C': array([0.01, 0.12, 0.23, 0.34, 0.45, 0.56, 0.67, 0.78, 0.89, 1.  ]),\n",
       "                         'penalty': ['l1', 'l2']},\n",
       "             verbose=1)"
      ]
     },
     "execution_count": 27,
     "metadata": {},
     "output_type": "execute_result"
    }
   ],
   "source": [
    "# create logistic regression model\n",
    "# grid search code here\n",
    "logr_params = {\n",
    "    'penalty': ['l1', 'l2'],\n",
    "    'C': np.linspace(0.01, 1, 10)\n",
    "}\n",
    "\n",
    "logr_gridsearch = GridSearchCV(estimator = LogisticRegression(solver = 'liblinear'),\n",
    "                             param_grid = logr_params, \n",
    "                             cv = 5, \n",
    "                             verbose = 1,\n",
    "                             n_jobs = -1)\n",
    "logr_gridsearch.fit(X_train, y_train)"
   ]
  },
  {
   "cell_type": "code",
   "execution_count": 28,
   "metadata": {},
   "outputs": [],
   "source": [
    "log_preds = logr_gridsearch.predict(X_test)"
   ]
  },
  {
   "cell_type": "markdown",
   "metadata": {},
   "source": [
    "### 12. Find the best model as well as score your model in order to compare it to your KNN model. Is Professor Willow right or should we just have gone with KNN?"
   ]
  },
  {
   "cell_type": "code",
   "execution_count": 29,
   "metadata": {},
   "outputs": [
    {
     "data": {
      "text/plain": [
       "{'C': 0.45, 'penalty': 'l1'}"
      ]
     },
     "execution_count": 29,
     "metadata": {},
     "output_type": "execute_result"
    }
   ],
   "source": [
    "logr_gridsearch.best_params_"
   ]
  },
  {
   "cell_type": "code",
   "execution_count": 30,
   "metadata": {},
   "outputs": [
    {
     "data": {
      "text/plain": [
       "0.9925073358489271"
      ]
     },
     "execution_count": 30,
     "metadata": {},
     "output_type": "execute_result"
    }
   ],
   "source": [
    "# find and score your best model here\n",
    "logr_gridsearch.best_score_"
   ]
  },
  {
   "cell_type": "code",
   "execution_count": 31,
   "metadata": {},
   "outputs": [
    {
     "name": "stderr",
     "output_type": "stream",
     "text": [
      "[Parallel(n_jobs=-1)]: Using backend LokyBackend with 32 concurrent workers.\n"
     ]
    },
    {
     "name": "stdout",
     "output_type": "stream",
     "text": [
      "Fitting 5 folds for each of 20 candidates, totalling 100 fits\n"
     ]
    },
    {
     "name": "stderr",
     "output_type": "stream",
     "text": [
      "[Parallel(n_jobs=-1)]: Done 100 out of 100 | elapsed:    0.7s finished\n"
     ]
    },
    {
     "data": {
      "text/plain": [
       "GridSearchCV(cv=5, estimator=LogisticRegression(solver='liblinear'), n_jobs=-1,\n",
       "             param_grid={'C': array([0.01, 0.12, 0.23, 0.34, 0.45, 0.56, 0.67, 0.78, 0.89, 1.  ]),\n",
       "                         'penalty': ['l1', 'l2']},\n",
       "             verbose=1)"
      ]
     },
     "execution_count": 31,
     "metadata": {},
     "output_type": "execute_result"
    }
   ],
   "source": [
    "logr_gridsearch.fit(X_test, y_test)"
   ]
  },
  {
   "cell_type": "code",
   "execution_count": 32,
   "metadata": {},
   "outputs": [
    {
     "data": {
      "text/plain": [
       "0.9940074906367041"
      ]
     },
     "execution_count": 32,
     "metadata": {},
     "output_type": "execute_result"
    }
   ],
   "source": [
    "logr_gridsearch.best_score_"
   ]
  },
  {
   "cell_type": "markdown",
   "metadata": {},
   "source": [
    "Here we see that our logistic regression model is slightly overfit and doesn't perform as well as knn, we will tell Proffessor Willow he was wrong when he comes back. "
   ]
  },
  {
   "cell_type": "markdown",
   "metadata": {},
   "source": [
    "### 13. Create and plot a confusion matrix for your Logistic Regression model. Comment on the specificity and sensitivity of your model. "
   ]
  },
  {
   "cell_type": "code",
   "execution_count": 33,
   "metadata": {},
   "outputs": [
    {
     "data": {
      "text/plain": [
       "array([[2587,    3],\n",
       "       [  15,   65]])"
      ]
     },
     "execution_count": 33,
     "metadata": {},
     "output_type": "execute_result"
    }
   ],
   "source": [
    "# confusion matrix here\n",
    "confusion_matrix(y_test, log_preds)"
   ]
  },
  {
   "cell_type": "code",
   "execution_count": 34,
   "metadata": {},
   "outputs": [
    {
     "data": {
      "text/plain": [
       "<sklearn.metrics._plot.confusion_matrix.ConfusionMatrixDisplay at 0x7fb5c678b790>"
      ]
     },
     "execution_count": 34,
     "metadata": {},
     "output_type": "execute_result"
    },
    {
     "data": {
      "image/png": "[encoded data removed]",
      "text/plain": [
       "<Figure size 432x288 with 2 Axes>"
      ]
     },
     "metadata": {
      "needs_background": "light"
     },
     "output_type": "display_data"
    }
   ],
   "source": [
    "plot_confusion_matrix(logr_gridsearch, X_test, y_test)"
   ]
  },
  {
   "cell_type": "code",
   "execution_count": 35,
   "metadata": {},
   "outputs": [],
   "source": [
    "tn, fp, fn, tp = confusion_matrix(y_test, y_preds).ravel()"
   ]
  },
  {
   "cell_type": "code",
   "execution_count": 36,
   "metadata": {},
   "outputs": [
    {
     "data": {
      "text/plain": [
       "0.9984555984555985"
      ]
     },
     "execution_count": 36,
     "metadata": {},
     "output_type": "execute_result"
    }
   ],
   "source": [
    "# specificity\n",
    "(tn) / (tn + fp)"
   ]
  },
  {
   "cell_type": "code",
   "execution_count": 37,
   "metadata": {},
   "outputs": [
    {
     "data": {
      "text/plain": [
       "0.85"
      ]
     },
     "execution_count": 37,
     "metadata": {},
     "output_type": "execute_result"
    }
   ],
   "source": [
    "# sensitivity\n",
    "(tp) / (tp + fn)"
   ]
  },
  {
   "cell_type": "markdown",
   "metadata": {},
   "source": [
    "Here again we see that our specificity and sensitivity are both high so we can conclude that our model is amazing at determining if a Pokémon is a Pikachu. Any false negatives and positives we had we can blame on the Transform Pokémon, Ditto as it is known to like to pose as Pikachu and other Pokémon from time to time. "
   ]
  },
  {
   "cell_type": "markdown",
   "metadata": {},
   "source": [
    "### 14. Finally use your best logistic regression model and evaluate the coefficients of all the predictor variables you decided to use. "
   ]
  },
  {
   "cell_type": "code",
   "execution_count": 38,
   "metadata": {},
   "outputs": [
    {
     "data": {
      "text/plain": [
       "array([[ 2.22714601, -4.19599452, -0.11877911, -2.96513162,  0.        ,\n",
       "        -1.27168355,  0.        ,  0.        , -1.28444043]])"
      ]
     },
     "execution_count": 38,
     "metadata": {},
     "output_type": "execute_result"
    }
   ],
   "source": [
    "# evaluate coefficients here\n",
    "lr = LogisticRegression(penalty = 'l1', C = 0.34, solver = 'liblinear')\n",
    "lr.fit(X_test, y_test)\n",
    "lr.coef_"
   ]
  },
  {
   "cell_type": "code",
   "execution_count": 39,
   "metadata": {},
   "outputs": [
    {
     "data": {
      "text/plain": [
       "array([[9.2733622 , 0.01505576, 0.88800393, 0.05155368, 1.        ,\n",
       "        0.28035923, 1.        , 1.        , 0.27680543]])"
      ]
     },
     "execution_count": 39,
     "metadata": {},
     "output_type": "execute_result"
    }
   ],
   "source": [
    "np.exp(lr.coef_)"
   ]
  },
  {
   "cell_type": "markdown",
   "metadata": {},
   "source": [
    "Here we see that a Pokémon with the move Thunder Shock was 3.3 times more likely to be Pikachu, a Pokémon without Quick Attack or Thunder Shock was 0.012 times as likely to be a Pikachu, the move Thunderbolt was unable to determine if a Pokémon was likely to be Pikachu . A Pokémon that did not have Thunderbolt, Wild Charge, or Discharge was 0.09 times as likely to be Pikachu. We see that weight, size, weight^2, weight size were not able to determine if a Pokémon was likely to be a Pikachu or not. Finally for each increase in size^2, we see that a Pokémon was 0.08 times as likely to be a Pikachu. Everything here of course assumes all else is constant. "
   ]
  }
 ],
 "metadata": {
  "kernelspec": {
   "display_name": "Python 3",
   "language": "python",
   "name": "python3"
  },
  "language_info": {
   "codemirror_mode": {
    "name": "ipython",
    "version": 3
   },
   "file_extension": ".py",
   "mimetype": "text/x-python",
   "name": "python",
   "nbconvert_exporter": "python",
   "pygments_lexer": "ipython3",
   "version": "3.8.5"
  }
 },
 "nbformat": 4,
 "nbformat_minor": 4
}
